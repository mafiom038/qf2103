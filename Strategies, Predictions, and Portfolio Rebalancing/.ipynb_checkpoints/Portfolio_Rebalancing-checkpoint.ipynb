{
 "cells": [
  {
   "cell_type": "code",
   "id": "2ff473de",
   "metadata": {
    "ExecuteTime": {
     "end_time": "2025-03-30T10:34:40.832142Z",
     "start_time": "2025-03-30T10:34:40.825700Z"
    }
   },
   "source": [
    "import pandas as pd\n",
    "import numpy as np\n",
    "import yfinance as yf\n",
    "import scipy.optimize as sco\n",
    "import json"
   ],
   "outputs": [],
   "execution_count": 7
  },
  {
   "cell_type": "code",
   "id": "1c75ea5f",
   "metadata": {
    "ExecuteTime": {
     "end_time": "2025-03-30T10:34:40.846165Z",
     "start_time": "2025-03-30T10:34:40.839921Z"
    }
   },
   "source": [
    "tickers = ['AMZN', 'BA', 'CAT', 'GOOGL', 'GS', 'NKE', 'NVDA', 'SOFI', 'TSLA', 'UNH']"
   ],
   "outputs": [],
   "execution_count": 8
  },
  {
   "cell_type": "code",
   "id": "c3b536f5",
   "metadata": {
    "ExecuteTime": {
     "end_time": "2025-03-30T10:34:42.060406Z",
     "start_time": "2025-03-30T10:34:41.273289Z"
    }
   },
   "source": [
    "# Parameters\n",
    "train_start = \"2021-01-01\"\n",
    "test_start = \"2024-03-01\"\n",
    "test_end = \"2025-01-16\"\n",
    "initial_capital = 50000\n",
    "lookback_days = 60\n",
    "\n",
    "# Download both Close and Open prices\n",
    "data = yf.download(tickers, start=train_start, end=test_end, progress=False)\n",
    "close = data['Close'].dropna()\n",
    "openp = data['Open'].dropna()\n",
    "\n",
    "# Log returns (from close prices)\n",
    "log_returns = np.log(close / close.shift(1)).dropna()\n",
    "\n",
    "# Generate monthly rebalance dates starting from test_start\n",
    "rebalance_dates = pd.date_range(start=test_start, end=test_end, freq='MS')  # Month Start\n",
    "\n",
    "# Map to actual trading days (forward-fill if it's not a trading day)\n",
    "rebalance_dates = [close.index[close.index.get_indexer([d], method='bfill')[0]] for d in rebalance_dates]\n",
    "\n",
    "# Init\n",
    "weights_per_month = {}\n",
    "shares_held = pd.Series(0, index=tickers)\n",
    "\n",
    "for date in rebalance_dates:\n",
    "    # Ensure date exists in index\n",
    "    if date not in close.index:\n",
    "        date = close.index[close.index.get_indexer([date], method='bfill')[0]]\n",
    "    \n",
    "    end_idx = close.index.get_loc(date)\n",
    "    start_idx = end_idx - lookback_days\n",
    "    if start_idx < 0:\n",
    "        continue\n",
    "\n",
    "    # Get past data window (only up to yesterday)\n",
    "    window_returns = log_returns.iloc[start_idx:end_idx]\n",
    "    mean_returns = window_returns.mean() * 252\n",
    "    cov_matrix = window_returns.cov() * 252\n",
    "\n",
    "    # Define Sharpe Ratio optimizer\n",
    "    def neg_sharpe(weights):\n",
    "        port_return = np.dot(weights, mean_returns.values)\n",
    "        port_vol = np.sqrt(np.dot(weights.T, np.dot(cov_matrix.values, weights)))\n",
    "        return -port_return / port_vol\n",
    "\n",
    "    constraints = ({'type': 'eq', 'fun': lambda x: np.sum(x) - 1})\n",
    "    bounds = [(0.01, 0.3)] * len(tickers)\n",
    "    init_guess = np.array([1 / len(tickers)] * len(tickers))\n",
    "\n",
    "    result = sco.minimize(neg_sharpe, init_guess, method='SLSQP',\n",
    "                          bounds=bounds, constraints=constraints)\n",
    "    if not result.success:\n",
    "        continue\n",
    "\n",
    "    weights = pd.Series(result.x, index=tickers)\n",
    "\n",
    "    # Log weights\n",
    "    weights_per_month[pd.to_datetime(date).strftime(\"%Y-%m-%d\")] = weights.round(4).to_dict()\n",
    "    \n",
    "# Weights per Month\n",
    "print(\" Diversified Weights per Month:\")\n",
    "print(json.dumps(weights_per_month, indent=2))\n"
   ],
   "outputs": [
    {
     "name": "stderr",
     "output_type": "stream",
     "text": [
      "Failed to get ticker 'GS' reason: Expecting value: line 1 column 1 (char 0)\n",
      "Failed to get ticker 'SOFI' reason: Expecting value: line 1 column 1 (char 0)\n",
      "Failed to get ticker 'BA' reason: Expecting value: line 1 column 1 (char 0)\n",
      "Failed to get ticker 'GOOGL' reason: Expecting value: line 1 column 1 (char 0)\n",
      "Failed to get ticker 'UNH' reason: Expecting value: line 1 column 1 (char 0)\n",
      "Failed to get ticker 'NKE' reason: Expecting value: line 1 column 1 (char 0)\n",
      "Failed to get ticker 'TSLA' reason: Expecting value: line 1 column 1 (char 0)\n",
      "Failed to get ticker 'CAT' reason: Expecting value: line 1 column 1 (char 0)\n",
      "Failed to get ticker 'AMZN' reason: Expecting value: line 1 column 1 (char 0)\n",
      "Failed to get ticker 'NVDA' reason: Expecting value: line 1 column 1 (char 0)\n",
      "\n",
      "10 Failed downloads:\n",
      "['GS', 'SOFI', 'BA', 'GOOGL', 'UNH', 'NKE', 'TSLA', 'CAT', 'AMZN', 'NVDA']: Exception('%ticker%: No timezone found, symbol may be delisted')\n"
     ]
    },
    {
     "ename": "IndexError",
     "evalue": "index -1 is out of bounds for axis 0 with size 0",
     "output_type": "error",
     "traceback": [
      "\u001B[0;31m---------------------------------------------------------------------------\u001B[0m",
      "\u001B[0;31mIndexError\u001B[0m                                Traceback (most recent call last)",
      "Cell \u001B[0;32mIn[10], line 20\u001B[0m\n\u001B[1;32m     17\u001B[0m rebalance_dates \u001B[38;5;241m=\u001B[39m pd\u001B[38;5;241m.\u001B[39mdate_range(start\u001B[38;5;241m=\u001B[39mtest_start, end\u001B[38;5;241m=\u001B[39mtest_end, freq\u001B[38;5;241m=\u001B[39m\u001B[38;5;124m'\u001B[39m\u001B[38;5;124mMS\u001B[39m\u001B[38;5;124m'\u001B[39m)  \u001B[38;5;66;03m# Month Start\u001B[39;00m\n\u001B[1;32m     19\u001B[0m \u001B[38;5;66;03m# Map to actual trading days (forward-fill if it's not a trading day)\u001B[39;00m\n\u001B[0;32m---> 20\u001B[0m rebalance_dates \u001B[38;5;241m=\u001B[39m [close\u001B[38;5;241m.\u001B[39mindex[close\u001B[38;5;241m.\u001B[39mindex\u001B[38;5;241m.\u001B[39mget_indexer([d], method\u001B[38;5;241m=\u001B[39m\u001B[38;5;124m'\u001B[39m\u001B[38;5;124mbfill\u001B[39m\u001B[38;5;124m'\u001B[39m)[\u001B[38;5;241m0\u001B[39m]] \u001B[38;5;28;01mfor\u001B[39;00m d \u001B[38;5;129;01min\u001B[39;00m rebalance_dates]\n\u001B[1;32m     22\u001B[0m \u001B[38;5;66;03m# Init\u001B[39;00m\n\u001B[1;32m     23\u001B[0m weights_per_month \u001B[38;5;241m=\u001B[39m {}\n",
      "Cell \u001B[0;32mIn[10], line 20\u001B[0m, in \u001B[0;36m<listcomp>\u001B[0;34m(.0)\u001B[0m\n\u001B[1;32m     17\u001B[0m rebalance_dates \u001B[38;5;241m=\u001B[39m pd\u001B[38;5;241m.\u001B[39mdate_range(start\u001B[38;5;241m=\u001B[39mtest_start, end\u001B[38;5;241m=\u001B[39mtest_end, freq\u001B[38;5;241m=\u001B[39m\u001B[38;5;124m'\u001B[39m\u001B[38;5;124mMS\u001B[39m\u001B[38;5;124m'\u001B[39m)  \u001B[38;5;66;03m# Month Start\u001B[39;00m\n\u001B[1;32m     19\u001B[0m \u001B[38;5;66;03m# Map to actual trading days (forward-fill if it's not a trading day)\u001B[39;00m\n\u001B[0;32m---> 20\u001B[0m rebalance_dates \u001B[38;5;241m=\u001B[39m [\u001B[43mclose\u001B[49m\u001B[38;5;241;43m.\u001B[39;49m\u001B[43mindex\u001B[49m\u001B[43m[\u001B[49m\u001B[43mclose\u001B[49m\u001B[38;5;241;43m.\u001B[39;49m\u001B[43mindex\u001B[49m\u001B[38;5;241;43m.\u001B[39;49m\u001B[43mget_indexer\u001B[49m\u001B[43m(\u001B[49m\u001B[43m[\u001B[49m\u001B[43md\u001B[49m\u001B[43m]\u001B[49m\u001B[43m,\u001B[49m\u001B[43m \u001B[49m\u001B[43mmethod\u001B[49m\u001B[38;5;241;43m=\u001B[39;49m\u001B[38;5;124;43m'\u001B[39;49m\u001B[38;5;124;43mbfill\u001B[39;49m\u001B[38;5;124;43m'\u001B[39;49m\u001B[43m)\u001B[49m\u001B[43m[\u001B[49m\u001B[38;5;241;43m0\u001B[39;49m\u001B[43m]\u001B[49m\u001B[43m]\u001B[49m \u001B[38;5;28;01mfor\u001B[39;00m d \u001B[38;5;129;01min\u001B[39;00m rebalance_dates]\n\u001B[1;32m     22\u001B[0m \u001B[38;5;66;03m# Init\u001B[39;00m\n\u001B[1;32m     23\u001B[0m weights_per_month \u001B[38;5;241m=\u001B[39m {}\n",
      "File \u001B[0;32m~/anaconda3/envs/QF2103/lib/python3.9/site-packages/pandas/core/indexes/base.py:5389\u001B[0m, in \u001B[0;36mIndex.__getitem__\u001B[0;34m(self, key)\u001B[0m\n\u001B[1;32m   5386\u001B[0m \u001B[38;5;28;01mif\u001B[39;00m is_integer(key) \u001B[38;5;129;01mor\u001B[39;00m is_float(key):\n\u001B[1;32m   5387\u001B[0m     \u001B[38;5;66;03m# GH#44051 exclude bool, which would return a 2d ndarray\u001B[39;00m\n\u001B[1;32m   5388\u001B[0m     key \u001B[38;5;241m=\u001B[39m com\u001B[38;5;241m.\u001B[39mcast_scalar_indexer(key)\n\u001B[0;32m-> 5389\u001B[0m     \u001B[38;5;28;01mreturn\u001B[39;00m \u001B[43mgetitem\u001B[49m\u001B[43m(\u001B[49m\u001B[43mkey\u001B[49m\u001B[43m)\u001B[49m\n\u001B[1;32m   5391\u001B[0m \u001B[38;5;28;01mif\u001B[39;00m \u001B[38;5;28misinstance\u001B[39m(key, \u001B[38;5;28mslice\u001B[39m):\n\u001B[1;32m   5392\u001B[0m     \u001B[38;5;66;03m# This case is separated from the conditional above to avoid\u001B[39;00m\n\u001B[1;32m   5393\u001B[0m     \u001B[38;5;66;03m# pessimization com.is_bool_indexer and ndim checks.\u001B[39;00m\n\u001B[1;32m   5394\u001B[0m     \u001B[38;5;28;01mreturn\u001B[39;00m \u001B[38;5;28mself\u001B[39m\u001B[38;5;241m.\u001B[39m_getitem_slice(key)\n",
      "\u001B[0;31mIndexError\u001B[0m: index -1 is out of bounds for axis 0 with size 0"
     ]
    }
   ],
   "execution_count": 10
  },
  {
   "cell_type": "code",
   "execution_count": 4,
   "id": "b9532cf4",
   "metadata": {},
   "outputs": [],
   "source": [
    "predictions = {}\n",
    "for stock in tickers:\n",
    "    predictions[stock] = pd.read_csv('Predictions of ' + stock + '.csv', parse_dates=True, index_col=0)\n",
    "    \n",
    "def calculate_portolio_value():\n",
    "    portfolio_val = 50000\n",
    "\n",
    "    # Sorted list of rebalance dates\n",
    "    rebalance_dates = list(weights_per_month.keys())\n",
    "\n",
    "    for i in range(len(rebalance_dates)):\n",
    "        date = rebalance_dates[i]\n",
    "        curr_portfolio_value = portfolio_val\n",
    "        for stock in tickers:\n",
    "            next_date = None\n",
    "            if i == len(rebalance_dates) - 1:\n",
    "                next_date = '2025-01-16'\n",
    "            else:\n",
    "                next_date = rebalance_dates[i+1]\n",
    "                \n",
    "            w = weights_per_month[date][stock]\n",
    "            portfolio_val += w * curr_portfolio_value * (predictions[stock]['Cumulative_Return_Strategy'].loc[next_date]-predictions[stock]['Cumulative_Return_Strategy'].loc[date])\n",
    "            \n",
    "    return portfolio_val"
   ]
  },
  {
   "cell_type": "code",
   "execution_count": 5,
   "id": "517e9d17",
   "metadata": {},
   "outputs": [
    {
     "data": {
      "text/plain": [
       "100565.55157363591"
      ]
     },
     "execution_count": 5,
     "metadata": {},
     "output_type": "execute_result"
    }
   ],
   "source": [
    "calculate_portolio_value()"
   ]
  },
  {
   "cell_type": "code",
   "execution_count": null,
   "id": "69d67266",
   "metadata": {},
   "outputs": [],
   "source": []
  }
 ],
 "metadata": {
  "kernelspec": {
   "display_name": "Python 3 (ipykernel)",
   "language": "python",
   "name": "python3"
  },
  "language_info": {
   "codemirror_mode": {
    "name": "ipython",
    "version": 3
   },
   "file_extension": ".py",
   "mimetype": "text/x-python",
   "name": "python",
   "nbconvert_exporter": "python",
   "pygments_lexer": "ipython3",
   "version": "3.9.13"
  }
 },
 "nbformat": 4,
 "nbformat_minor": 5
}
